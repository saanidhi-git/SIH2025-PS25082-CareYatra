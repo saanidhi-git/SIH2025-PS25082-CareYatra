{
 "cells": [
  {
   "cell_type": "code",
   "execution_count": 1,
   "id": "b1c42528",
   "metadata": {},
   "outputs": [],
   "source": [
    "import pandas as pd\n",
    "import numpy as np\n",
    "from sklearn.model_selection import train_test_split, GridSearchCV\n",
    "from sklearn.pipeline import Pipeline\n",
    "from sklearn.compose import ColumnTransformer\n",
    "from sklearn.preprocessing import OneHotEncoder, StandardScaler\n",
    "from sklearn.ensemble import RandomForestRegressor\n",
    "from sklearn.metrics import mean_absolute_error, mean_squared_error, r2_score\n",
    "import joblib"
   ]
  },
  {
   "cell_type": "code",
   "execution_count": 3,
   "id": "783fc9f9",
   "metadata": {},
   "outputs": [
    {
     "name": "stdout",
     "output_type": "stream",
     "text": [
      "(1338, 7)\n",
      "   age     sex     bmi  children smoker     region      charges\n",
      "0   19  female  27.900         0    yes  southwest  16884.92400\n",
      "1   18    male  33.770         1     no  southeast   1725.55230\n",
      "2   28    male  33.000         3     no  southeast   4449.46200\n",
      "3   33    male  22.705         0     no  northwest  21984.47061\n",
      "4   32    male  28.880         0     no  northwest   3866.85520\n"
     ]
    }
   ],
   "source": [
    "# 1) Load data\n",
    "df = pd.read_csv(\"file.csv\")   # download from Kaggle and put here\n",
    "print(df.shape)\n",
    "print(df.head())"
   ]
  },
  {
   "cell_type": "code",
   "execution_count": 4,
   "id": "74c8fc07",
   "metadata": {},
   "outputs": [],
   "source": [
    "# 2) Features / target\n",
    "X = df.drop(columns=[\"charges\"])\n",
    "y = df[\"charges\"]"
   ]
  },
  {
   "cell_type": "code",
   "execution_count": 5,
   "id": "a7035b87",
   "metadata": {},
   "outputs": [],
   "source": [
    "# 3) Column groups\n",
    "num_cols = [\"age\", \"bmi\", \"children\"]\n",
    "cat_cols = [\"sex\", \"smoker\", \"region\"]"
   ]
  },
  {
   "cell_type": "code",
   "execution_count": 7,
   "id": "8a15ede6",
   "metadata": {},
   "outputs": [],
   "source": [
    "# 4) Preprocessing\n",
    "num_transformer = Pipeline([\n",
    "    (\"scaler\", StandardScaler())\n",
    "])\n",
    "# Use sparse=False to get dense arrays; if you get a DeprecationWarning, replace with sparse_output=False for newer sklearn\n",
    "cat_transformer = OneHotEncoder(handle_unknown=\"ignore\")\n",
    "\n",
    "preprocessor = ColumnTransformer(\n",
    "    transformers=[\n",
    "        (\"num\", num_transformer, num_cols),\n",
    "        (\"cat\", cat_transformer, cat_cols),\n",
    "    ],\n",
    "    remainder=\"drop\",\n",
    ")"
   ]
  },
  {
   "cell_type": "code",
   "execution_count": 8,
   "id": "b42d37f8",
   "metadata": {},
   "outputs": [],
   "source": [
    "# 5) Full pipeline: preprocessor + model\n",
    "pipe = Pipeline([\n",
    "    (\"preprocessor\", preprocessor),\n",
    "    (\"model\", RandomForestRegressor(random_state=42))\n",
    "])"
   ]
  },
  {
   "cell_type": "code",
   "execution_count": 9,
   "id": "10354245",
   "metadata": {},
   "outputs": [],
   "source": [
    "\n",
    "# 6) Train/test split\n",
    "X_train, X_test, y_train, y_test = train_test_split(\n",
    "    X, y, test_size=0.2, random_state=42\n",
    ")\n"
   ]
  },
  {
   "cell_type": "code",
   "execution_count": 10,
   "id": "3f37b73e",
   "metadata": {},
   "outputs": [
    {
     "name": "stdout",
     "output_type": "stream",
     "text": [
      "Fitting 4 folds for each of 6 candidates, totalling 24 fits\n",
      "Best params: {'model__max_depth': 10, 'model__n_estimators': 100}\n"
     ]
    }
   ],
   "source": [
    "# 7) (Optional) small grid search for decent hyperparams\n",
    "param_grid = {\n",
    "    \"model__n_estimators\": [100, 200],\n",
    "    \"model__max_depth\": [None, 10, 20],\n",
    "}\n",
    "grid = GridSearchCV(pipe, param_grid, cv=4, n_jobs=-1, scoring=\"neg_mean_absolute_error\", verbose=1)\n",
    "grid.fit(X_train, y_train)\n",
    "\n",
    "best = grid.best_estimator_\n",
    "print(\"Best params:\", grid.best_params_)"
   ]
  },
  {
   "cell_type": "code",
   "execution_count": 13,
   "id": "cee91ee5",
   "metadata": {},
   "outputs": [
    {
     "name": "stdout",
     "output_type": "stream",
     "text": [
      "MAE: 2540.46, RMSE: 21174753.46, R2: 0.864\n",
      "Saved pipeline to insurance_pipeline.joblib\n"
     ]
    }
   ],
   "source": [
    "# 8) Evaluate\n",
    "\n",
    "from sklearn.metrics import mean_absolute_error, mean_squared_error, r2_score\n",
    "import math\n",
    "\n",
    "y_pred = best.predict(X_test)\n",
    "mae = mean_absolute_error(y_test, y_pred)\n",
    "rmse = mean_squared_error(y_test, y_pred)\n",
    "r2 = r2_score(y_test, y_pred)\n",
    "print(f\"MAE: {mae:.2f}, RMSE: {rmse:.2f}, R2: {r2:.3f}\")\n",
    "\n",
    "# 9) Save pipeline (contains preprocessor + model)\n",
    "joblib.dump(best, \"insurance_pipeline.joblib\")\n",
    "print(\"Saved pipeline to insurance_pipeline.joblib\")"
   ]
  },
  {
   "cell_type": "code",
   "execution_count": null,
   "id": "fb20ef63",
   "metadata": {},
   "outputs": [],
   "source": []
  }
 ],
 "metadata": {
  "kernelspec": {
   "display_name": "pydata-book",
   "language": "python",
   "name": "python3"
  },
  "language_info": {
   "codemirror_mode": {
    "name": "ipython",
    "version": 3
   },
   "file_extension": ".py",
   "mimetype": "text/x-python",
   "name": "python",
   "nbconvert_exporter": "python",
   "pygments_lexer": "ipython3",
   "version": "3.12.9"
  }
 },
 "nbformat": 4,
 "nbformat_minor": 5
}
